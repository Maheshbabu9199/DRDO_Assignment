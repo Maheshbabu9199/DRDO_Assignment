{
  "cells": [
    {
      "cell_type": "code",
      "execution_count": null,
      "metadata": {
        "colab": {
          "base_uri": "https://localhost:8080/"
        },
        "id": "ON0XTN2AeW6T",
        "outputId": "fdfa68fd-f1f9-4102-e259-e6fbeee171ca"
      },
      "outputs": [
        {
          "output_type": "stream",
          "name": "stdout",
          "text": [
            "Mounted at /content/drive\n"
          ]
        }
      ],
      "source": [
        "from google.colab import drive\n",
        "drive.mount(\"/content/drive\")"
      ]
    },
    {
      "cell_type": "code",
      "source": [
        "!pip install split-folders"
      ],
      "metadata": {
        "colab": {
          "base_uri": "https://localhost:8080/"
        },
        "id": "_140x7z0kpL_",
        "outputId": "080d2759-c464-43ec-9593-8fbaef42d717"
      },
      "execution_count": null,
      "outputs": [
        {
          "output_type": "stream",
          "name": "stdout",
          "text": [
            "Collecting split-folders\n",
            "  Downloading split_folders-0.5.1-py3-none-any.whl (8.4 kB)\n",
            "Installing collected packages: split-folders\n",
            "Successfully installed split-folders-0.5.1\n"
          ]
        }
      ]
    },
    {
      "cell_type": "markdown",
      "source": [
        "# Scenario_01"
      ],
      "metadata": {
        "id": "-TNQLwoEpfo_"
      }
    },
    {
      "cell_type": "code",
      "source": [
        "import splitfolders\n",
        "splitfolders.ratio('/content/drive/MyDrive/DRDO/flowers', output=\"output\", seed=1337, ratio=(.7, .1, .2))"
      ],
      "metadata": {
        "colab": {
          "base_uri": "https://localhost:8080/"
        },
        "id": "4tbVmZ2Dks-h",
        "outputId": "fe04afd5-7558-4e0d-f603-d478be5eae94"
      },
      "execution_count": null,
      "outputs": [
        {
          "output_type": "stream",
          "name": "stderr",
          "text": [
            "Copying files: 5204 files [01:00, 86.39 files/s] \n"
          ]
        }
      ]
    },
    {
      "cell_type": "code",
      "execution_count": null,
      "metadata": {
        "id": "X3YrWFIJqMVf"
      },
      "outputs": [],
      "source": [
        "import os\n",
        "import keras\n",
        "from keras.preprocessing.image import ImageDataGenerator\n",
        "from keras.optimizers import Adam\n",
        "from keras.callbacks import ModelCheckpoint\n",
        "import matplotlib.pyplot as plt\n",
        "import tensorflow as tf\n",
        "from tensorflow.keras import layers, models\n",
        "from tensorflow.keras.callbacks import ModelCheckpoint\n",
        "from tensorflow.keras.models import load_model"
      ]
    },
    {
      "cell_type": "code",
      "execution_count": null,
      "metadata": {
        "colab": {
          "base_uri": "https://localhost:8080/"
        },
        "id": "plO4ARK-3DT8",
        "outputId": "9f0dc63e-d189-4c80-8746-eae3e84a676d"
      },
      "outputs": [
        {
          "output_type": "stream",
          "name": "stdout",
          "text": [
            "Found 3640 images belonging to 5 classes.\n",
            "Found 1046 images belonging to 5 classes.\n",
            "{'daisy': 0, 'dandelion': 1, 'rose': 2, 'sunflower': 3, 'tulip': 4}\n"
          ]
        }
      ],
      "source": [
        "# Define data directories\n",
        "train_dir =\"/content/output/train\"\n",
        "test_dir = \"/content/output/test\"\n",
        "\n",
        "# Define image dimensions and batch size\n",
        "img_height = 224\n",
        "img_width = 224\n",
        "batch_size = 32\n",
        "\n",
        "# Create data generators with data augmentation for training set\n",
        "train_datagen = ImageDataGenerator(\n",
        "    rescale=1.0/255.0,  # Normalize pixel values to [0, 1]\n",
        "    rotation_range=20,  # Randomly rotate images by up to 20 degrees\n",
        "    width_shift_range=0.2,  # Randomly shift the width of images\n",
        "    height_shift_range=0.2,  # Randomly shift the height of images\n",
        "    horizontal_flip=True,  # Randomly flip images horizontally\n",
        "    shear_range=0.2,  # Apply shear transformation\n",
        "    zoom_range=0.2,  # Apply random zoom\n",
        "    fill_mode='nearest'  # Fill in newly created pixels\n",
        ")\n",
        "\n",
        "# Create data generators for validation and test sets (no augmentation)\n",
        "val_datagen = ImageDataGenerator(rescale=1.0/255.0)\n",
        "test_datagen = ImageDataGenerator(rescale=1.0/255.0)\n",
        "\n",
        "# Load and preprocess data using data generators\n",
        "train_data = train_datagen.flow_from_directory(\n",
        "    train_dir,\n",
        "    target_size=(img_height, img_width),\n",
        "    batch_size=batch_size,\n",
        "    class_mode='categorical'  # for multi-class classification\n",
        ")\n",
        "\n",
        "val_data = val_datagen.flow_from_directory(\n",
        "    test_dir,\n",
        "    target_size=(img_height, img_width),\n",
        "    batch_size=batch_size,\n",
        "    class_mode='categorical'\n",
        ")\n",
        "\n",
        "# Optionally, you can check the class labels:\n",
        "class_labels = train_data.class_indices\n",
        "print(class_labels)\n"
      ]
    },
    {
      "cell_type": "code",
      "execution_count": null,
      "metadata": {
        "id": "nZlPREELqzQK"
      },
      "outputs": [],
      "source": [
        "def plotImages(images_arr):\n",
        "    fig, axes = plt.subplots(5, 5, figsize=(20, 20))\n",
        "    axes = axes.flatten()\n",
        "    for img, ax in zip(images_arr, axes):\n",
        "        ax.imshow(img)\n",
        "    plt.tight_layout()\n",
        "    plt.show()"
      ]
    },
    {
      "cell_type": "code",
      "execution_count": null,
      "metadata": {
        "colab": {
          "base_uri": "https://localhost:8080/"
        },
        "id": "MA3AjcdMroY-",
        "outputId": "dc212bc5-6747-4118-a00d-f0d949499226"
      },
      "outputs": [
        {
          "output_type": "execute_result",
          "data": {
            "text/plain": [
              "{'daisy': 0, 'dandelion': 1, 'rose': 2, 'sunflower': 3, 'tulip': 4}"
            ]
          },
          "metadata": {},
          "execution_count": 9
        }
      ],
      "source": [
        "train_data.class_indices"
      ]
    },
    {
      "cell_type": "code",
      "execution_count": null,
      "metadata": {
        "colab": {
          "base_uri": "https://localhost:8080/",
          "height": 1000
        },
        "id": "NMQtYBCp27sX",
        "outputId": "17ed20b8-d2eb-4ae8-82be-9f030daa3780"
      },
      "outputs": [],
      "source": [
        "images = [train_data[0][0][0] for i in range(25)]\n",
        "plotImages(images)"
      ]
    },
    {
      "cell_type": "code",
      "execution_count": null,
      "metadata": {
        "colab": {
          "base_uri": "https://localhost:8080/"
        },
        "id": "heb-YSJm4gAD",
        "outputId": "7aa9c5f9-9b39-43a9-d613-5dc2d0f5c316"
      },
      "outputs": [
        {
          "output_type": "stream",
          "name": "stdout",
          "text": [
            "Model: \"sequential\"\n",
            "_________________________________________________________________\n",
            " Layer (type)                Output Shape              Param #   \n",
            "=================================================================\n",
            " conv2d (Conv2D)             (None, 222, 222, 32)      896       \n",
            "                                                                 \n",
            " max_pooling2d (MaxPooling2  (None, 111, 111, 32)      0         \n",
            " D)                                                              \n",
            "                                                                 \n",
            " conv2d_1 (Conv2D)           (None, 109, 109, 64)      18496     \n",
            "                                                                 \n",
            " max_pooling2d_1 (MaxPoolin  (None, 54, 54, 64)        0         \n",
            " g2D)                                                            \n",
            "                                                                 \n",
            " conv2d_2 (Conv2D)           (None, 52, 52, 128)       73856     \n",
            "                                                                 \n",
            " max_pooling2d_2 (MaxPoolin  (None, 26, 26, 128)       0         \n",
            " g2D)                                                            \n",
            "                                                                 \n",
            " flatten (Flatten)           (None, 86528)             0         \n",
            "                                                                 \n",
            " dense (Dense)               (None, 128)               11075712  \n",
            "                                                                 \n",
            " dropout (Dropout)           (None, 128)               0         \n",
            "                                                                 \n",
            " dense_1 (Dense)             (None, 5)                 645       \n",
            "                                                                 \n",
            "=================================================================\n",
            "Total params: 11169605 (42.61 MB)\n",
            "Trainable params: 11169605 (42.61 MB)\n",
            "Non-trainable params: 0 (0.00 Byte)\n",
            "_________________________________________________________________\n"
          ]
        }
      ],
      "source": [
        "# Define the CNN model\n",
        "model = models.Sequential()\n",
        "\n",
        "# Convolutional layer 1\n",
        "model.add(layers.Conv2D(32, (3, 3), activation='relu', input_shape=(224, 224, 3)))\n",
        "model.add(layers.MaxPooling2D((2, 2)))\n",
        "\n",
        "# Convolutional layer 2\n",
        "model.add(layers.Conv2D(64, (3, 3), activation='relu'))\n",
        "model.add(layers.MaxPooling2D((2, 2)))\n",
        "\n",
        "# Convolutional layer 3\n",
        "model.add(layers.Conv2D(128, (3, 3), activation='relu'))\n",
        "model.add(layers.MaxPooling2D((2, 2)))\n",
        "\n",
        "# Flatten the output before the fully connected layers\n",
        "model.add(layers.Flatten())\n",
        "\n",
        "# Fully connected layers\n",
        "model.add(layers.Dense(128, activation='relu'))\n",
        "model.add(layers.Dropout(0.5))  # Dropout for regularization\n",
        "model.add(layers.Dense(5, activation='softmax'))  # 5 classes, so 5 output neurons with softmax activation\n",
        "\n",
        "# Compile the model\n",
        "model.compile(optimizer='adam',\n",
        "              loss='categorical_crossentropy',\n",
        "              metrics=['accuracy'])\n",
        "\n",
        "# Print a summary of the model architecture\n",
        "model.summary()\n"
      ]
    },
    {
      "cell_type": "code",
      "execution_count": null,
      "metadata": {
        "id": "rjhH9kNi44PW"
      },
      "outputs": [],
      "source": [
        "model.compile(optimizer='adam', loss='categorical_crossentropy', metrics=['accuracy'])   # Here we are compiling the model"
      ]
    },
    {
      "cell_type": "code",
      "execution_count": null,
      "metadata": {
        "id": "VFsjdQalGuaZ"
      },
      "outputs": [],
      "source": [
        "checkpoint = ModelCheckpoint(\n",
        "    'flower_best_model_weights.h5',\n",
        "    monitor='val_accuracy',  # Choose the metric you want to monitor (e.g., val_loss, val_accuracy)\n",
        "    save_best_only=True,  # Save only the best model weights\n",
        "    mode='max',  # 'max' for accuracy, 'min' for loss, 'auto' will automatically infer the mode\n",
        "    verbose=1  # Display messages about the model saving process\n",
        ")"
      ]
    },
    {
      "cell_type": "code",
      "execution_count": null,
      "metadata": {
        "id": "fbi2GRKrp32o"
      },
      "outputs": [],
      "source": [
        "epochs=1"
      ]
    },
    {
      "cell_type": "code",
      "execution_count": null,
      "metadata": {
        "colab": {
          "base_uri": "https://localhost:8080/"
        },
        "id": "R8deKDEVp1lM",
        "outputId": "d10cfa25-c3ce-4146-f6e7-fd4d3bb01677"
      },
      "outputs": [
        {
          "output_type": "stream",
          "name": "stdout",
          "text": [
            "114/114 [==============================] - ETA: 0s - loss: 1.3048 - accuracy: 0.4668\n",
            "Epoch 1: val_accuracy improved from -inf to 0.55449, saving model to flower_best_model_weights.h5\n"
          ]
        },
        {
          "output_type": "stream",
          "name": "stderr",
          "text": [
            "/usr/local/lib/python3.10/dist-packages/keras/src/engine/training.py:3079: UserWarning: You are saving your model as an HDF5 file via `model.save()`. This file format is considered legacy. We recommend using instead the native Keras format, e.g. `model.save('my_model.keras')`.\n",
            "  saving_api.save_model(\n"
          ]
        },
        {
          "output_type": "stream",
          "name": "stdout",
          "text": [
            "\b\b\b\b\b\b\b\b\b\b\b\b\b\b\b\b\b\b\b\b\b\b\b\b\b\b\b\b\b\b\b\b\b\b\b\b\b\b\b\b\b\b\b\b\b\b\b\b\b\b\b\b\b\b\b\b\b\b\b\b\b\b\b\b\b\b\b\b\b\b\b\b\b\b\b\b\b\b\b\b\b\b\b\b\r114/114 [==============================] - 65s 463ms/step - loss: 1.3048 - accuracy: 0.4668 - val_loss: 1.1432 - val_accuracy: 0.5545\n"
          ]
        }
      ],
      "source": [
        "history = model.fit(\n",
        "    train_data,\n",
        "    epochs=epochs,  # Adjust the number of epochs as needed\n",
        "    validation_data=val_data,\n",
        "    callbacks=[checkpoint\n",
        "               ]\n",
        ")"
      ]
    },
    {
      "cell_type": "code",
      "execution_count": null,
      "metadata": {
        "colab": {
          "base_uri": "https://localhost:8080/"
        },
        "id": "vosSXeg7u9kA",
        "outputId": "6cea27f1-f910-4f63-f684-10eb27f35361"
      },
      "outputs": [
        {
          "name": "stdout",
          "output_type": "stream",
          "text": [
            "mv: cannot stat 'apple_best_model_weights.h5': No such file or directory\n"
          ]
        }
      ],
      "source": [
        "!mv 'apple_best_model_weights.h5' '/content/drive/My Drive/'"
      ]
    },
    {
      "cell_type": "code",
      "execution_count": null,
      "metadata": {
        "colab": {
          "base_uri": "https://localhost:8080/"
        },
        "id": "NyQt2TSPLzLC",
        "outputId": "d5fc929e-347d-4f00-9a50-b3ce8ffb9b8a"
      },
      "outputs": [
        {
          "output_type": "stream",
          "name": "stdout",
          "text": [
            "Epoch 2/5\n",
            "114/114 [==============================] - ETA: 0s - loss: 1.1086 - accuracy: 0.5538\n",
            "Epoch 2: val_accuracy improved from 0.55449 to 0.65010, saving model to flower_best_model_weights.h5\n",
            "114/114 [==============================] - 54s 458ms/step - loss: 1.1086 - accuracy: 0.5538 - val_loss: 0.9517 - val_accuracy: 0.6501\n",
            "Epoch 3/5\n",
            "114/114 [==============================] - ETA: 0s - loss: 1.0074 - accuracy: 0.6033\n",
            "Epoch 3: val_accuracy did not improve from 0.65010\n",
            "114/114 [==============================] - 53s 463ms/step - loss: 1.0074 - accuracy: 0.6033 - val_loss: 1.0538 - val_accuracy: 0.5679\n",
            "Epoch 4/5\n",
            "114/114 [==============================] - ETA: 0s - loss: 0.9446 - accuracy: 0.6313\n",
            "Epoch 4: val_accuracy did not improve from 0.65010\n",
            "114/114 [==============================] - 51s 451ms/step - loss: 0.9446 - accuracy: 0.6313 - val_loss: 1.0469 - val_accuracy: 0.6214\n",
            "Epoch 5/5\n",
            "114/114 [==============================] - ETA: 0s - loss: 0.8973 - accuracy: 0.6552\n",
            "Epoch 5: val_accuracy improved from 0.65010 to 0.71415, saving model to flower_best_model_weights.h5\n",
            "114/114 [==============================] - 53s 462ms/step - loss: 0.8973 - accuracy: 0.6552 - val_loss: 0.8079 - val_accuracy: 0.7141\n"
          ]
        }
      ],
      "source": [
        "# Load the pretrained model from the end of epoch 1\n",
        "model.load_weights('/content/flower_best_model_weights.h5')\n",
        "\n",
        "# Compile the model\n",
        "model.compile(optimizer='adam',\n",
        "              loss='categorical_crossentropy',\n",
        "              metrics=['accuracy'])\n",
        "\n",
        "# Continue training from epoch 2 for an additional 4 epochs\n",
        "history = model.fit(\n",
        "    train_data,\n",
        "    epochs=5,  # 1 previous epochs + 4 additional epochs\n",
        "    initial_epoch=1,  # Start from epoch 2\n",
        "    validation_data=val_data,\n",
        "    callbacks=[checkpoint]  # Include the checkpoint callback if needed\n",
        ")\n"
      ]
    },
    {
      "cell_type": "code",
      "source": [
        "\n"
      ],
      "metadata": {
        "id": "mK9viTRAfy1w"
      },
      "execution_count": null,
      "outputs": []
    },
    {
      "cell_type": "code",
      "execution_count": null,
      "metadata": {
        "colab": {
          "base_uri": "https://localhost:8080/"
        },
        "id": "A2-1_rC48aor",
        "outputId": "066bcc91-e6a1-477c-94e3-6f681536abda"
      },
      "outputs": [
        {
          "output_type": "execute_result",
          "data": {
            "text/plain": [
              "{'loss': [1.1085699796676636,\n",
              "  1.0074057579040527,\n",
              "  0.9446437358856201,\n",
              "  0.8972501158714294],\n",
              " 'accuracy': [0.5538461804389954,\n",
              "  0.60329669713974,\n",
              "  0.6313186883926392,\n",
              "  0.6552197933197021],\n",
              " 'val_loss': [0.9517207741737366,\n",
              "  1.0537605285644531,\n",
              "  1.046915888786316,\n",
              "  0.8079079985618591],\n",
              " 'val_accuracy': [0.6500955820083618,\n",
              "  0.5678776502609253,\n",
              "  0.6214148998260498,\n",
              "  0.7141491174697876]}"
            ]
          },
          "metadata": {},
          "execution_count": 17
        }
      ],
      "source": [
        "history.history"
      ]
    },
    {
      "cell_type": "code",
      "execution_count": null,
      "metadata": {
        "colab": {
          "base_uri": "https://localhost:8080/",
          "height": 472
        },
        "id": "RoY36Ay-tLYb",
        "outputId": "612af506-ef16-4e38-881d-01d739a360cf"
      },
      "outputs": [
        {
          "output_type": "display_data",
          "data": {
            "text/plain": [
              "<Figure size 640x480 with 1 Axes>"
            ],
            "image/png": "[encoded data removed]"
          },
          "metadata": {}
        }
      ],
      "source": [
        "plt.plot(history.history['accuracy'])\n",
        "plt.plot(history.history['val_accuracy'])\n",
        "plt.title('model accuracy')\n",
        "plt.ylabel('accuracy')\n",
        "plt.xlabel('epoch')\n",
        "plt.legend(['train', 'test'], loc='upper left')\n",
        "plt.show()"
      ]
    },
    {
      "cell_type": "code",
      "execution_count": null,
      "metadata": {
        "colab": {
          "base_uri": "https://localhost:8080/",
          "height": 472
        },
        "id": "t1enbP0e8Tsl",
        "outputId": "d7f79905-0667-40ae-e5f4-91e9b752bfc3"
      },
      "outputs": [
        {
          "output_type": "display_data",
          "data": {
            "text/plain": [
              "<Figure size 640x480 with 1 Axes>"
            ],
            "image/png": "[encoded data removed]"
          },
          "metadata": {}
        }
      ],
      "source": [
        "plt.plot(history.history['loss'])\n",
        "plt.plot(history.history['val_loss'])\n",
        "plt.title('model loss')\n",
        "plt.ylabel('loss')\n",
        "plt.xlabel('epoch')\n",
        "plt.legend(['train', 'test'], loc='upper left')\n",
        "plt.show()"
      ]
    },
    {
      "cell_type": "code",
      "execution_count": null,
      "metadata": {
        "colab": {
          "base_uri": "https://localhost:8080/"
        },
        "id": "aoF2X_FyPkHS",
        "outputId": "93100f03-bc46-467d-fbbc-49ebe842eea5"
      },
      "outputs": [
        {
          "output_type": "stream",
          "name": "stdout",
          "text": [
            "33/33 [==============================] - 3s 73ms/step - loss: 0.8079 - accuracy: 0.7141\n",
            "Accuracy of the best model on the test dataset:  71.41%\n"
          ]
        }
      ],
      "source": [
        "# Load the weights of the best model (assuming you have already saved them)\n",
        "model.load_weights(\"/content/flower_best_model_weights.h5\")  # Replace with the actual file path\n",
        "\n",
        "# Compile the model\n",
        "model.compile(optimizer='adam',\n",
        "              loss='categorical_crossentropy',\n",
        "              metrics=['accuracy'])\n",
        "\n",
        "# Evaluate the model on the test dataset\n",
        "test_loss, test_accuracy = model.evaluate(val_data)\n",
        "\n",
        "# Print the accuracy for the best model\n",
        "print(f'Accuracy of the best model on the test dataset:  {test_accuracy * 100:.2f}%')\n"
      ]
    },
    {
      "cell_type": "code",
      "source": [
        "import os\n",
        "import numpy as np\n",
        "from tensorflow.keras.models import load_model\n",
        "from tensorflow.keras.preprocessing.image import ImageDataGenerator\n",
        "from sklearn.metrics import precision_score, recall_score, f1_score, confusion_matrix\n",
        "\n",
        "# Directory paths for train and test data\n",
        "train_dir = train_dir\n",
        "test_dir = test_dir\n",
        "\n",
        "# Load the model\n",
        "model = load_model('/content/flower_best_model_weights.h5')\n",
        "\n",
        "# Define image data generators for test data\n",
        "test_data_gen = ImageDataGenerator(rescale=1.0 / 255.0)\n",
        "test_generator = test_data_gen.flow_from_directory(\n",
        "    test_dir,\n",
        "    target_size=(224, 224),  # Adjust to your image size\n",
        "    batch_size=32,            # Adjust as needed\n",
        "    class_mode='categorical',  # For classification\n",
        "    shuffle=False              # Do not shuffle for evaluation\n",
        ")\n",
        "\n",
        "# Make predictions on the test data\n",
        "predictions = model.predict(test_generator)\n",
        "\n",
        "# Convert predicted probabilities to class labels (assuming one-hot encoding)\n",
        "predicted_labels = np.argmax(predictions, axis=1)\n",
        "\n",
        "# Get the true labels\n",
        "true_labels = test_generator.classes\n",
        "\n",
        "# Calculate precision, recall, and F1 score\n",
        "precision = precision_score(true_labels, predicted_labels, average='macro')\n",
        "recall = recall_score(true_labels, predicted_labels, average='macro')\n",
        "f1 = f1_score(true_labels, predicted_labels, average='macro')\n",
        "\n",
        "# Calculate specificity (true negative rate)\n",
        "'''tn, fp, fn, tp = confusion_matrix(true_labels, predicted_labels).ravel()\n",
        "specificity = tn / (tn + fp)'''\n",
        "from sklearn.metrics import confusion_matrix\n",
        "\n",
        "# Calculate confusion matrix\n",
        "cm = confusion_matrix(true_labels, predicted_labels)\n",
        "\n",
        "# Calculate specificity for each class\n",
        "specificity = []\n",
        "for i in range(cm.shape[0]):\n",
        "    true_negative = sum(cm[j][j] for j in range(cm.shape[0])) - cm[i].sum()\n",
        "    false_positive = cm[:, i].sum() - cm[i][i]\n",
        "    specificity_i = true_negative / (true_negative + false_positive)\n",
        "    specificity.append(specificity_i)\n",
        "\n",
        "# Calculate the average specificity\n",
        "average_specificity = np.mean(specificity)\n",
        "\n",
        "# Print the results\n",
        "print(f'Precision: {precision:.2f}')\n",
        "print(f'Recall: {recall:.2f}')\n",
        "print(f'F1 Score: {f1:.2f}')\n",
        "print(f'Average Specificity: {average_specificity:.2f}')\n"
      ],
      "metadata": {
        "colab": {
          "base_uri": "https://localhost:8080/"
        },
        "id": "xmvP67-wnzMp",
        "outputId": "8093557b-1145-4057-c6e8-53a5f99a2238"
      },
      "execution_count": null,
      "outputs": [
        {
          "output_type": "stream",
          "name": "stdout",
          "text": [
            "Found 1046 images belonging to 5 classes.\n",
            "33/33 [==============================] - 2s 73ms/step\n",
            "Precision: 0.70\n",
            "Recall: 0.68\n",
            "F1 Score: 0.67\n",
            "Average Specificity: 0.90\n"
          ]
        }
      ]
    },
    {
      "cell_type": "code",
      "source": [
        "import seaborn as sns\n",
        "\n",
        "cm = confusion_matrix(true_labels, predicted_labels)\n",
        "\n",
        "# Plot confusion matrix as a heatmap\n",
        "plt.figure(figsize=(8, 6))\n",
        "sns.heatmap(cm, annot=True, fmt='d', cmap='YlGn')\n",
        "plt.xlabel('Predicted')\n",
        "plt.ylabel('True')\n",
        "plt.title('Confusion Matrix')\n",
        "plt.show()\n"
      ],
      "metadata": {
        "colab": {
          "base_uri": "https://localhost:8080/",
          "height": 564
        },
        "id": "M6MIvdU4oxbd",
        "outputId": "f4ecd509-ffe8-43e2-d339-c6c7a1d82b26"
      },
      "execution_count": null,
      "outputs": [
        {
          "output_type": "display_data",
          "data": {
            "text/plain": [
              "<Figure size 800x600 with 2 Axes>"
            ],
            "image/png": "[encoded data removed]"
          },
          "metadata": {}
        }
      ]
    },
    {
      "cell_type": "markdown",
      "source": [
        "## Integrating with the application\n",
        "\n",
        "We can integrate this model with the application using flask or Django frameworks.\n",
        "\n",
        "The user can take the photo of the flower and then upload the image with the app which will be sent to the model using the api and then the model will predict the input image and then send it back to the user.\n"
      ],
      "metadata": {
        "id": "AGXVGxhdpjbu"
      }
    },
    {
      "cell_type": "code",
      "source": [],
      "metadata": {
        "id": "iiEnYXZ7pkOO"
      },
      "execution_count": null,
      "outputs": []
    }
  ],
  "metadata": {
    "accelerator": "GPU",
    "colab": {
      "provenance": []
    },
    "kernelspec": {
      "display_name": "Python 3",
      "name": "python3"
    },
    "language_info": {
      "name": "python"
    }
  },
  "nbformat": 4,
  "nbformat_minor": 0
}